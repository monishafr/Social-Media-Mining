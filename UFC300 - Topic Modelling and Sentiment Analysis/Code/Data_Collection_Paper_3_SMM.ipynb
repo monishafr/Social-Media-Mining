{
  "nbformat": 4,
  "nbformat_minor": 0,
  "metadata": {
    "colab": {
      "provenance": []
    },
    "kernelspec": {
      "name": "python3",
      "display_name": "Python 3"
    },
    "language_info": {
      "name": "python"
    }
  },
  "cells": [
    {
      "cell_type": "markdown",
      "source": [
        "## MONISHA PATRO\n",
        "### DATA COLLECTION CODE\n",
        "### SOCIAL MEDIA MINING SPRING'24\n"
      ],
      "metadata": {
        "id": "k8orY83ajvAO"
      }
    },
    {
      "cell_type": "code",
      "execution_count": null,
      "metadata": {
        "colab": {
          "base_uri": "https://localhost:8080/"
        },
        "id": "xpN32qAv1Rnq",
        "outputId": "122a859f-7632-4a71-d698-f405dc9e4e3f"
      },
      "outputs": [
        {
          "output_type": "stream",
          "name": "stdout",
          "text": [
            "Requirement already satisfied: praw in /usr/local/lib/python3.10/dist-packages (7.7.1)\n",
            "Requirement already satisfied: prawcore<3,>=2.1 in /usr/local/lib/python3.10/dist-packages (from praw) (2.4.0)\n",
            "Requirement already satisfied: update-checker>=0.18 in /usr/local/lib/python3.10/dist-packages (from praw) (0.18.0)\n",
            "Requirement already satisfied: websocket-client>=0.54.0 in /usr/local/lib/python3.10/dist-packages (from praw) (1.7.0)\n",
            "Requirement already satisfied: requests<3.0,>=2.6.0 in /usr/local/lib/python3.10/dist-packages (from prawcore<3,>=2.1->praw) (2.31.0)\n",
            "Requirement already satisfied: charset-normalizer<4,>=2 in /usr/local/lib/python3.10/dist-packages (from requests<3.0,>=2.6.0->prawcore<3,>=2.1->praw) (3.3.2)\n",
            "Requirement already satisfied: idna<4,>=2.5 in /usr/local/lib/python3.10/dist-packages (from requests<3.0,>=2.6.0->prawcore<3,>=2.1->praw) (3.7)\n",
            "Requirement already satisfied: urllib3<3,>=1.21.1 in /usr/local/lib/python3.10/dist-packages (from requests<3.0,>=2.6.0->prawcore<3,>=2.1->praw) (2.0.7)\n",
            "Requirement already satisfied: certifi>=2017.4.17 in /usr/local/lib/python3.10/dist-packages (from requests<3.0,>=2.6.0->prawcore<3,>=2.1->praw) (2024.2.2)\n"
          ]
        }
      ],
      "source": [
        "pip install praw"
      ]
    },
    {
      "cell_type": "code",
      "source": [
        "import praw\n",
        "import pandas as pd\n",
        "from datetime import datetime, timedelta\n",
        "\n",
        "reddit = praw.Reddit(client_id='mqaw3qYOQqtDWnvUHFiUKg',\n",
        "                     client_secret='6bPat7wSc1DU5TN0bn4L30_tCDHIKQ',\n",
        "                     user_agent='test',\n",
        "                     username='mozpt',\n",
        "                     password='Sumn@1234')"
      ],
      "metadata": {
        "id": "kAEinVLZ1gb5"
      },
      "execution_count": null,
      "outputs": []
    },
    {
      "cell_type": "code",
      "source": [
        "print(reddit.user.me())"
      ],
      "metadata": {
        "colab": {
          "base_uri": "https://localhost:8080/"
        },
        "id": "8tJxJ_q-1j0n",
        "outputId": "73cdb177-1406-4c44-e083-0ef40c38d5ef"
      },
      "execution_count": null,
      "outputs": [
        {
          "output_type": "stream",
          "name": "stderr",
          "text": [
            "WARNING:praw:It appears that you are using PRAW in an asynchronous environment.\n",
            "It is strongly recommended to use Async PRAW: https://asyncpraw.readthedocs.io.\n",
            "See https://praw.readthedocs.io/en/latest/getting_started/multiple_instances.html#discord-bots-and-asynchronous-environments for more info.\n",
            "\n"
          ]
        },
        {
          "output_type": "stream",
          "name": "stdout",
          "text": [
            "mozpt\n"
          ]
        }
      ]
    },
    {
      "cell_type": "code",
      "source": [
        "pip install asyncpraw"
      ],
      "metadata": {
        "colab": {
          "base_uri": "https://localhost:8080/"
        },
        "id": "wpalvWZq1mMB",
        "outputId": "26846471-e32a-4d7a-bc5e-d31e3cc389f7"
      },
      "execution_count": null,
      "outputs": [
        {
          "output_type": "stream",
          "name": "stdout",
          "text": [
            "Requirement already satisfied: asyncpraw in /usr/local/lib/python3.10/dist-packages (7.7.1)\n",
            "Requirement already satisfied: aiofiles<1 in /usr/local/lib/python3.10/dist-packages (from asyncpraw) (0.8.0)\n",
            "Requirement already satisfied: aiohttp<4 in /usr/local/lib/python3.10/dist-packages (from asyncpraw) (3.9.5)\n",
            "Requirement already satisfied: aiosqlite<=0.17.0 in /usr/local/lib/python3.10/dist-packages (from asyncpraw) (0.17.0)\n",
            "Requirement already satisfied: asyncprawcore<3,>=2.1 in /usr/local/lib/python3.10/dist-packages (from asyncpraw) (2.4.0)\n",
            "Requirement already satisfied: update-checker>=0.18 in /usr/local/lib/python3.10/dist-packages (from asyncpraw) (0.18.0)\n",
            "Requirement already satisfied: aiosignal>=1.1.2 in /usr/local/lib/python3.10/dist-packages (from aiohttp<4->asyncpraw) (1.3.1)\n",
            "Requirement already satisfied: attrs>=17.3.0 in /usr/local/lib/python3.10/dist-packages (from aiohttp<4->asyncpraw) (23.2.0)\n",
            "Requirement already satisfied: frozenlist>=1.1.1 in /usr/local/lib/python3.10/dist-packages (from aiohttp<4->asyncpraw) (1.4.1)\n",
            "Requirement already satisfied: multidict<7.0,>=4.5 in /usr/local/lib/python3.10/dist-packages (from aiohttp<4->asyncpraw) (6.0.5)\n",
            "Requirement already satisfied: yarl<2.0,>=1.0 in /usr/local/lib/python3.10/dist-packages (from aiohttp<4->asyncpraw) (1.9.4)\n",
            "Requirement already satisfied: async-timeout<5.0,>=4.0 in /usr/local/lib/python3.10/dist-packages (from aiohttp<4->asyncpraw) (4.0.3)\n",
            "Requirement already satisfied: typing_extensions>=3.7.2 in /usr/local/lib/python3.10/dist-packages (from aiosqlite<=0.17.0->asyncpraw) (4.11.0)\n",
            "Requirement already satisfied: requests>=2.3.0 in /usr/local/lib/python3.10/dist-packages (from update-checker>=0.18->asyncpraw) (2.31.0)\n",
            "Requirement already satisfied: charset-normalizer<4,>=2 in /usr/local/lib/python3.10/dist-packages (from requests>=2.3.0->update-checker>=0.18->asyncpraw) (3.3.2)\n",
            "Requirement already satisfied: idna<4,>=2.5 in /usr/local/lib/python3.10/dist-packages (from requests>=2.3.0->update-checker>=0.18->asyncpraw) (3.7)\n",
            "Requirement already satisfied: urllib3<3,>=1.21.1 in /usr/local/lib/python3.10/dist-packages (from requests>=2.3.0->update-checker>=0.18->asyncpraw) (2.0.7)\n",
            "Requirement already satisfied: certifi>=2017.4.17 in /usr/local/lib/python3.10/dist-packages (from requests>=2.3.0->update-checker>=0.18->asyncpraw) (2024.2.2)\n"
          ]
        }
      ]
    },
    {
      "cell_type": "code",
      "source": [
        "pip install asyncio"
      ],
      "metadata": {
        "colab": {
          "base_uri": "https://localhost:8080/"
        },
        "id": "Wx9bsA9J1onf",
        "outputId": "24732c34-d0de-4c4a-f403-b089bd8744de"
      },
      "execution_count": null,
      "outputs": [
        {
          "output_type": "stream",
          "name": "stdout",
          "text": [
            "Requirement already satisfied: asyncio in /usr/local/lib/python3.10/dist-packages (3.4.3)\n"
          ]
        }
      ]
    },
    {
      "cell_type": "code",
      "source": [
        "import asyncpraw\n",
        "from datetime import datetime\n",
        "import pandas as pd\n",
        "\n",
        "async def main():\n",
        "    reddit = asyncpraw.Reddit(client_id='mqaw3qYOQqtDWnvUHFiUKg',\n",
        "                              client_secret='6bPat7wSc1DU5TN0bn4L30_tCDHIKQ',\n",
        "                              user_agent='test',\n",
        "                              username='mozpt',\n",
        "                              password='Sumn@1234')\n",
        "\n",
        "    post_id = '1b1r150'\n",
        "    post = await reddit.submission(id=post_id)\n",
        "    await post.comments.replace_more(limit=0)\n",
        "    comments = await post.comments.list()\n",
        "    data = []\n",
        "    start_date = datetime(2023, 1, 14)\n",
        "    end_date = datetime(2024, 4, 26)\n",
        "\n",
        "    for comment in comments:\n",
        "        comment_date = datetime.utcfromtimestamp(comment.created_utc)\n",
        "        if start_date <= comment_date <= end_date:\n",
        "            author = comment.author.name if comment.author else '[deleted]'\n",
        "            text = comment.body\n",
        "            score = comment.score\n",
        "            data.append([author, text, comment_date, score])\n",
        "\n",
        "    df = pd.DataFrame(data, columns=['Author', 'Text', 'Date', 'Score'])\n",
        "    df.to_csv('PreMax1.csv', index=False)\n",
        "\n",
        "    await reddit.close()\n",
        "\n",
        "await main()\n"
      ],
      "metadata": {
        "id": "PGWBqXcrJfLv",
        "colab": {
          "base_uri": "https://localhost:8080/"
        },
        "outputId": "60bdf431-4447-45a2-b5d8-573d8c7de9e1"
      },
      "execution_count": null,
      "outputs": [
        {
          "output_type": "stream",
          "name": "stderr",
          "text": [
            "<ipython-input-10-aa46a5493830>:33: DeprecationWarning: `CommentForest.list()` no longer needs to be awaited and this will raise an error in a future version of Async PRAW.\n",
            "  await main()\n"
          ]
        }
      ]
    },
    {
      "cell_type": "code",
      "source": [
        "import asyncpraw\n",
        "from datetime import datetime\n",
        "import pandas as pd\n",
        "\n",
        "async def main():\n",
        "    reddit = asyncpraw.Reddit(client_id='mqaw3qYOQqtDWnvUHFiUKg',\n",
        "                              client_secret='6bPat7wSc1DU5TN0bn4L30_tCDHIKQ',\n",
        "                              user_agent='test',\n",
        "                              username='mozpt',\n",
        "                              password='Sumn@1234')\n",
        "\n",
        "    post_id = '1bht527'\n",
        "    post = await reddit.submission(id=post_id)\n",
        "    await post.comments.replace_more(limit=0)\n",
        "    comments = await post.comments.list()\n",
        "    data = []\n",
        "    start_date = datetime(2023, 1, 14)\n",
        "    end_date = datetime(2024, 4, 26)\n",
        "\n",
        "    for comment in comments:\n",
        "        comment_date = datetime.utcfromtimestamp(comment.created_utc)\n",
        "        if start_date <= comment_date <= end_date:\n",
        "            author = comment.author.name if comment.author else '[deleted]'\n",
        "            text = comment.body\n",
        "            score = comment.score\n",
        "            data.append([author, text, comment_date, score])\n",
        "\n",
        "    df = pd.DataFrame(data, columns=['Author', 'Text', 'Date', 'Score'])\n",
        "    df.to_csv('PreMax2.csv', index=False)\n",
        "\n",
        "    await reddit.close()\n",
        "\n",
        "await main()\n"
      ],
      "metadata": {
        "id": "fQnHILSZIUsV",
        "colab": {
          "base_uri": "https://localhost:8080/"
        },
        "outputId": "0b98ae8e-335e-47aa-bc75-038b19d33a9b"
      },
      "execution_count": null,
      "outputs": [
        {
          "output_type": "stream",
          "name": "stderr",
          "text": [
            "<ipython-input-14-20f0d40c0baf>:33: DeprecationWarning: `CommentForest.list()` no longer needs to be awaited and this will raise an error in a future version of Async PRAW.\n",
            "  await main()\n"
          ]
        }
      ]
    },
    {
      "cell_type": "code",
      "source": [
        "import asyncpraw\n",
        "from datetime import datetime\n",
        "import pandas as pd\n",
        "\n",
        "async def main():\n",
        "    reddit = asyncpraw.Reddit(client_id='mqaw3qYOQqtDWnvUHFiUKg',\n",
        "                              client_secret='6bPat7wSc1DU5TN0bn4L30_tCDHIKQ',\n",
        "                              user_agent='test',\n",
        "                              username='mozpt',\n",
        "                              password='Sumn@1234')\n",
        "\n",
        "    post_id = '198j61n'\n",
        "    post = await reddit.submission(id=post_id)\n",
        "    await post.comments.replace_more(limit=0)\n",
        "    comments = await post.comments.list()\n",
        "    data = []\n",
        "    start_date = datetime(2023, 1, 14)\n",
        "    end_date = datetime(2024, 4, 26)\n",
        "\n",
        "    for comment in comments:\n",
        "        comment_date = datetime.utcfromtimestamp(comment.created_utc)\n",
        "        if start_date <= comment_date <= end_date:\n",
        "            author = comment.author.name if comment.author else '[deleted]'\n",
        "            text = comment.body\n",
        "            score = comment.score\n",
        "            data.append([author, text, comment_date, score])\n",
        "\n",
        "    df = pd.DataFrame(data, columns=['Author', 'Text', 'Date', 'Score'])\n",
        "    df.to_csv('PreMax3.csv', index=False)\n",
        "\n",
        "    await reddit.close()\n",
        "\n",
        "await main()\n"
      ],
      "metadata": {
        "colab": {
          "base_uri": "https://localhost:8080/"
        },
        "id": "3OmK5hYjIxA-",
        "outputId": "fe4cda90-9431-411e-9320-229985b7de28"
      },
      "execution_count": null,
      "outputs": [
        {
          "output_type": "stream",
          "name": "stderr",
          "text": [
            "<ipython-input-15-b99363bbf0bc>:33: DeprecationWarning: `CommentForest.list()` no longer needs to be awaited and this will raise an error in a future version of Async PRAW.\n",
            "  await main()\n"
          ]
        }
      ]
    },
    {
      "cell_type": "code",
      "source": [
        "import asyncpraw\n",
        "from datetime import datetime\n",
        "import pandas as pd\n",
        "\n",
        "async def main():\n",
        "    reddit = asyncpraw.Reddit(client_id='mqaw3qYOQqtDWnvUHFiUKg',\n",
        "                              client_secret='6bPat7wSc1DU5TN0bn4L30_tCDHIKQ',\n",
        "                              user_agent='test',\n",
        "                              username='mozpt',\n",
        "                              password='Sumn@1234')\n",
        "\n",
        "    post_id = '198j61n'\n",
        "    post = await reddit.submission(id=post_id)\n",
        "    await post.comments.replace_more(limit=0)\n",
        "    comments = await post.comments.list()\n",
        "    data = []\n",
        "    start_date = datetime(2023, 1, 14)\n",
        "    end_date = datetime(2024, 4, 26)\n",
        "\n",
        "    for comment in comments:\n",
        "        comment_date = datetime.utcfromtimestamp(comment.created_utc)\n",
        "        if start_date <= comment_date <= end_date:\n",
        "            author = comment.author.name if comment.author else '[deleted]'\n",
        "            text = comment.body\n",
        "            score = comment.score\n",
        "            data.append([author, text, comment_date, score])\n",
        "\n",
        "    df = pd.DataFrame(data, columns=['Author', 'Text', 'Date', 'Score'])\n",
        "    df.to_csv('PreJustin3.csv', index=False)\n",
        "\n",
        "    await reddit.close()\n",
        "\n",
        "await main()\n"
      ],
      "metadata": {
        "id": "-bRYs6cNfYsa"
      },
      "execution_count": null,
      "outputs": []
    },
    {
      "cell_type": "code",
      "source": [
        "import asyncpraw\n",
        "from datetime import datetime\n",
        "import pandas as pd\n",
        "\n",
        "async def main():\n",
        "    reddit = asyncpraw.Reddit(client_id='mqaw3qYOQqtDWnvUHFiUKg',\n",
        "                              client_secret='6bPat7wSc1DU5TN0bn4L30_tCDHIKQ',\n",
        "                              user_agent='test',\n",
        "                              username='mozpt',\n",
        "                              password='Sumn@1234')\n",
        "\n",
        "    post_id = '198j61n'\n",
        "    post = await reddit.submission(id=post_id)\n",
        "    await post.comments.replace_more(limit=0)\n",
        "    comments = await post.comments.list()\n",
        "    data = []\n",
        "    start_date = datetime(2023, 1, 14)\n",
        "    end_date = datetime(2024, 4, 26)\n",
        "\n",
        "    for comment in comments:\n",
        "        comment_date = datetime.utcfromtimestamp(comment.created_utc)\n",
        "        if start_date <= comment_date <= end_date:\n",
        "            author = comment.author.name if comment.author else '[deleted]'\n",
        "            text = comment.body\n",
        "            score = comment.score\n",
        "            data.append([author, text, comment_date, score])\n",
        "\n",
        "    df = pd.DataFrame(data, columns=['Author', 'Text', 'Date', 'Score'])\n",
        "    df.to_csv('PreJustin3.csv', index=False)\n",
        "\n",
        "    await reddit.close()\n",
        "\n",
        "await main()\n"
      ],
      "metadata": {
        "id": "ZAGE23wzflK2"
      },
      "execution_count": null,
      "outputs": []
    },
    {
      "cell_type": "code",
      "source": [
        "import asyncpraw\n",
        "from datetime import datetime\n",
        "import pandas as pd\n",
        "\n",
        "async def main():\n",
        "    reddit = asyncpraw.Reddit(client_id='mqaw3qYOQqtDWnvUHFiUKg',\n",
        "                              client_secret='6bPat7wSc1DU5TN0bn4L30_tCDHIKQ',\n",
        "                              user_agent='test',\n",
        "                              username='mozpt',\n",
        "                              password='Sumn@1234')\n",
        "\n",
        "    post_id = '1c3kl4f'\n",
        "    post = await reddit.submission(id=post_id)\n",
        "    await post.comments.replace_more(limit=0)\n",
        "    comments = await post.comments.list()\n",
        "    data = []\n",
        "    start_date = datetime(2023, 1, 14)\n",
        "    end_date = datetime(2024, 4, 26)\n",
        "    max_comments = 280  # Limit for the number of comments to collect\n",
        "\n",
        "    for comment in comments:\n",
        "        if len(data) >= max_comments:\n",
        "            break  # Stop collecting data when the limit is reached\n",
        "        comment_date = datetime.utcfromtimestamp(comment.created_utc)\n",
        "        if start_date <= comment_date <= end_date:\n",
        "            author = comment.author.name if comment.author else '[deleted]'\n",
        "            text = comment.body\n",
        "            score = comment.score\n",
        "            data.append([author, text, comment_date, score])\n",
        "\n",
        "    df = pd.DataFrame(data, columns=['Author', 'Text', 'Date', 'Score'])\n",
        "    df.to_csv('PostMax1.csv', index=False)\n",
        "\n",
        "    await reddit.close()\n",
        "\n",
        "await main()\n"
      ],
      "metadata": {
        "id": "T_4IfC66gIcO"
      },
      "execution_count": null,
      "outputs": []
    },
    {
      "cell_type": "code",
      "source": [
        "import asyncpraw\n",
        "from datetime import datetime\n",
        "import pandas as pd\n",
        "\n",
        "async def main():\n",
        "    reddit = asyncpraw.Reddit(client_id='mqaw3qYOQqtDWnvUHFiUKg',\n",
        "                              client_secret='6bPat7wSc1DU5TN0bn4L30_tCDHIKQ',\n",
        "                              user_agent='test',\n",
        "                              username='mozpt',\n",
        "                              password='Sumn@1234')\n",
        "\n",
        "    post_id = '1c3qb23'\n",
        "    post = await reddit.submission(id=post_id)\n",
        "    await post.comments.replace_more(limit=0)\n",
        "    comments = await post.comments.list()\n",
        "    data = []\n",
        "    start_date = datetime(2023, 1, 14)\n",
        "    end_date = datetime(2024, 4, 26)\n",
        "\n",
        "    for comment in comments:\n",
        "        comment_date = datetime.utcfromtimestamp(comment.created_utc)\n",
        "        if start_date <= comment_date <= end_date:\n",
        "            author = comment.author.name if comment.author else '[deleted]'\n",
        "            text = comment.body\n",
        "            score = comment.score\n",
        "            data.append([author, text, comment_date, score])\n",
        "\n",
        "    df = pd.DataFrame(data, columns=['Author', 'Text', 'Date', 'Score'])\n",
        "    df.to_csv('PostJustin.csv', index=False)\n",
        "\n",
        "    await reddit.close()\n",
        "\n",
        "await main()\n"
      ],
      "metadata": {
        "id": "rtEzivjThw2k"
      },
      "execution_count": null,
      "outputs": []
    }
  ]
}